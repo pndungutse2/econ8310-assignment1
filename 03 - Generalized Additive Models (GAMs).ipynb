{
 "cells": [
  {
   "cell_type": "markdown",
   "id": "479f1e86-2a90-4ab3-bfca-f4e5aa026670",
   "metadata": {
    "tags": []
   },
   "source": [
    "# Generalized Additive Models (GAM)\n",
    "\n",
    "While linear models are valuable, sometimes we need a bit more flexibility. We have a few options to overcome linearity constraints in our statistical models:\n",
    "\n",
    "1. Adding higher order parameters to our linear model\n",
    "2. Strictly non-parametric modeling\n",
    "3. Semi-parametric models\n",
    "\n",
    "## Higher Orders in OLS\n",
    "\n",
    "When estimating the effect of age (or experience) on earnings for workers, we frequently discuss a pattern that is called the \"earnings-experience profile\". This pattern looks like the following chart: \n",
    "\n",
    "![](https://taxfoundation.org/wp-content/uploads/2019/03/PaF-Chart-121.png)\n",
    "\n",
    "It is clear that this graph does not demonstrate a linear relationship between age (a proxy for experience) and earnings. It looks much more like a quadratic equation to me. How can we incorporate that functional form into a linear model?\n",
    "\n",
    "It turns out that OLS's assumptions state that the relationship between a paramter and the dependent variabe be linear, but not necessarily that the parameter itself be linear. What we can do to sidestep this problem is to simply **include non-linear terms in our regression model**. Let's look at a simple regression equation:\n",
    "\n",
    "$$ y_i = \\alpha + \\beta \\cdot x_i + \\epsilon_i $$\n",
    "\n",
    "The REQUIRED linearity stipulates that $\\beta \\cdot x_i$ be a linear relationship, or in other words that $\\beta$ be a number (not some other type of functional form). If we want to consider a non-linear relationship between $y$ and $x$, then we can adjust our regression model like this:\n",
    "\n",
    "$$ y_i = \\alpha + \\beta_1 \\cdot x_{i} + \\beta_2 \\cdot x^2_{i} + \\epsilon_i $$\n",
    "\n",
    "Now, we still have a linear relationshipe between each parameter and our dependent variable ($y$), but we have created a second parameter based on our original $x$ variable: $x^2$. Thus, we can estimate the quadratic relationship between $x$ and $y$ using linear regression. The marginal effect of increasing $x$ by one unit in this model is no longer $\\beta(x_{old}-x_{new})$. Now, it is $\\beta_1(x_{old}-x_{new}) + \\beta_2(x_{old}^2-x_{new}^2)$, and depends on the **current $x$ values**!\n",
    "\n",
    "\n",
    "## Non-parametric Modeling\n",
    "\n",
    "Another alternative is to simply abandon the parametric nature of OLS, and allow our model to assume **any** functional form. Thus, the relationship between $y$ and $x$ could be represented as\n",
    "\n",
    "$$ y_i = f(x_i) + \\epsilon_i $$\n",
    "\n",
    "where $f()$ can be any functional form. We can then have ANY relationship between $x$ and $y$, and are not hindered by any restrictions or assumptions in our model.\n",
    "\n",
    "Why don't we do this? I'll give you two reasons. First, it quickly becomes computationally intensive. The most common method for estimation of non-parametric models is through **kernel regression** (you can also use **regression trees** and several other tools, though). These models require large amounts of data in order to estimate, because each portion of the resulting model is in effect calculated based on the nearest observations. This also means that each individual point in the model needs to be separately estimated. While this is reasonable for simple regressions, it becomes complex and slow as the number of variables in a model increase.\n",
    "\n",
    "Second, when we estimate an entirely non-parametric model, we are likely to generate interaction terms between variables. This means that the effects of one variable cannot be easily separated from the effects of other variables included in our model. If we have two $x$ parameters ($x_1, x_2$), our model can be written\n",
    "\n",
    "$$ y_i = f(x_1, x_2) + \\epsilon_i $$\n",
    "\n",
    "and the marginal effects of these parameters given the model specified will be\n",
    "\n",
    "$$ ME_1 = \\frac{\\partial f}{\\partial x_1} $$\n",
    "and\n",
    "\n",
    "$$ ME_2 = \\frac{\\partial f}{\\partial x_2} .$$\n",
    "\n",
    "At this point, we have lost the ability to quickly interpret our marginal effects, and must generate estimates **at any specific observation** of the marginal effect of changes to inputs. In order to have a more flexible model, we have sacrificed both ease of calculation as well as ease of interpretability.\n",
    "\n",
    "What we really need is some sort of middle ground, and this can be achieved through **Generalized Additive Models**.\n",
    "\n",
    "## Generalized Additive Models (GAMs)\n",
    "\n",
    "Generalized Additive Models, or GAMs, provide a nice middle ground between linear models and non-parametric modeling by opening a subclass of non-parametric models to analyze data, while also attempting to preserve interpretability. The restricted flexibility of GAMs is rooted in the restriction to **additively separable** functional forms.\n",
    "\n",
    "What does that mean? Each explanatory variable must have an **additively separable** form in the regression model. To simplify even further, each variable can have ANY functional form so long as that form **does not interact with the functional forms of other variables**. In math speak, it's like this:\n",
    "\n",
    "$$ y_i = \\sum_{j=1}^K f_j(x_{j,i}) + \\epsilon_i $$\n",
    "\n",
    "If we had two variables again ($x_1, x_2$), then our model would be\n",
    "\n",
    "$$ y_i = f_1(x_{1,i}) + f_2(x_{2,i}) + \\epsilon_i. $$\n",
    "\n",
    "Our functional form for each variable can take any shape, but must be totally separate for each $x$! This is what we call additively separable, because each function can be added together to become the overall estimate of $y$. Additionally, this makes for some really nice properties when interpreting the model.\n",
    "\n",
    "- Each functional form can be separately visualized!\n",
    "- Each functional form relates to only one variable, and so the slope estimates are much easier to calculate when estimating marginal effects.\n",
    "\n",
    "Let's dive into creating GAMs in Python, and use that experience to learn a bit more about how they work.\n",
    "\n",
    "## Using GAMs\n",
    "\n",
    "\n",
    "\n",
    "### Facebook's `Prophet`\n",
    "\n",
    "There are two libraries that we will cover as we explore the use of GAMs for forecasting. The first is the [`Prophet`](https://facebook.github.io/prophet/) library from Facebook. Using this library, we can create time series-focused GAMs.\n",
    "\n",
    "`Prophet` expects our data to be structured in very specific ways. Let's import some data and take a look:"
   ]
  },
  {
   "cell_type": "code",
   "execution_count": null,
   "id": "61863ac0-e50f-485c-a100-249456b98e34",
   "metadata": {},
   "outputs": [],
   "source": [
    "# !pip install prophet # Only use this line if prophet is not already installed\n",
    "\n",
    "import pandas as pd\n",
    "from prophet import Prophet\n",
    "\n",
    "data = pd.read_csv(\"https://github.com/dustywhite7/Econ8310/raw/master/DataSets/chicagoBusRiders.csv\")"
   ]
  },
  {
   "cell_type": "code",
   "execution_count": null,
   "id": "cfba89c3-3ea3-43b5-860c-99e834617449",
   "metadata": {},
   "outputs": [],
   "source": [
    "data.head()"
   ]
  },
  {
   "cell_type": "markdown",
   "id": "1e5b74f7-53cd-46c6-beca-b8579a2a855d",
   "metadata": {},
   "source": [
    "Now, looking at our `data.head()` values, we can see that there are several columns. `Prophet` wants data to be provided in two columns, named `ds` and `y`, respectively. `ds` should contain the timestamp, and `y` should contain the time series that we want to use.\n",
    "\n",
    "To fit our data to this structure, let's pick a single bus route, and then reshape our data:"
   ]
  },
  {
   "cell_type": "code",
   "execution_count": null,
   "id": "915643b8-dd77-4dbb-a7b5-8ce8dc59ba81",
   "metadata": {},
   "outputs": [],
   "source": [
    "data_p = data.loc[data['route']=='3', ['date', 'rides']]\n",
    "data_p.columns = ['ds', 'y']\n",
    "\n",
    "data_p.head()"
   ]
  },
  {
   "cell_type": "markdown",
   "id": "2a7c88df-913c-4997-ad6c-bb89323f93fd",
   "metadata": {},
   "source": [
    "At this point our data is ready to be used in a `Prophet` model."
   ]
  },
  {
   "cell_type": "code",
   "execution_count": null,
   "id": "93041efc-6b7c-4837-8c85-59a4e9be1e5f",
   "metadata": {},
   "outputs": [],
   "source": [
    "m = Prophet()\n",
    "m.fit(data_p)"
   ]
  },
  {
   "cell_type": "markdown",
   "id": "3aa0024b-b610-45bf-82f8-d62015c0b9d3",
   "metadata": {},
   "source": [
    "First, we created a `Prophet` model object, and then we used its `fit` method to fit our model to the data for route 3. This fitted model can then be used to create forecasts through which we explore the various seasonal patterns that we might expect to observe on route 3 over time."
   ]
  },
  {
   "cell_type": "code",
   "execution_count": null,
   "id": "b441367d-16ef-40d2-bbd0-8c37ec7b59db",
   "metadata": {},
   "outputs": [],
   "source": [
    "# Create an empty dataframe with dates for future periods\n",
    "future = m.make_future_dataframe(periods=365)\n",
    "# Fill in dataframe wtih forecasts of `y` for the future periods\n",
    "forecast = m.predict(future)\n",
    "\n",
    "forecast.head()"
   ]
  },
  {
   "cell_type": "code",
   "execution_count": null,
   "id": "01ee01b1-f46f-4921-830b-091126124184",
   "metadata": {},
   "outputs": [],
   "source": [
    "# Plot our model together with the forecast\n",
    "fig = m.plot(forecast)\n",
    "fig.show()"
   ]
  },
  {
   "cell_type": "code",
   "execution_count": null,
   "id": "48a4efc1-e7eb-451a-ac14-5bcee3381128",
   "metadata": {},
   "outputs": [],
   "source": [
    "# Plot the components of the forecast\n",
    "fig = m.plot_components(forecast)\n",
    "fig.show()"
   ]
  },
  {
   "cell_type": "markdown",
   "id": "57c37a96-1cd4-406d-b2ea-db7562aec397",
   "metadata": {},
   "source": [
    "Using these figures, we can explore how our model performs in-sample, what projections look like for future periods, and how different types of cyclicality or seasonality apply to our current model. If we want to explore the raw forecast numbers for our model, we can just use our `forecast` DataFrame to extract that information:"
   ]
  },
  {
   "cell_type": "code",
   "execution_count": null,
   "id": "514fce6c-23e4-40c6-b86e-148474eda5fb",
   "metadata": {},
   "outputs": [],
   "source": [
    "forecast[['ds','yhat']].head()"
   ]
  },
  {
   "cell_type": "markdown",
   "id": "9e7e356b-bd0f-44d5-a103-f8f3d684a20b",
   "metadata": {
    "tags": []
   },
   "source": [
    "While useful for time series data, `Prophet` lacks the kind of flexibility that would allow us to easily incorporate both time series and exogenous factors into our model. Let's look at a more flexible implementation of the GAM model.\n",
    "\n",
    "## `pyGAM`'s alternative implementation\n",
    "\n",
    "My preferred GAM library is the `pyGAM` library. It allows for really neat and flexible solutions, using GAMs not only for time series analysis, but also for more general data analysis. Let's get an example going and take a look at why."
   ]
  },
  {
   "cell_type": "code",
   "execution_count": null,
   "id": "253890c0-a9c6-4850-80c2-8ec0d5416e52",
   "metadata": {
    "tags": []
   },
   "outputs": [],
   "source": [
    "# Import libraries/functions\n",
    "from pygam import LinearGAM, s, f, l\n",
    "import pandas as pd\n",
    "\n",
    "# Read in data, select route 3\n",
    "data = pd.read_csv(\"https://github.com/dustywhite7/Econ8310/raw/master/DataSets/chicagoBusRiders.csv\")\n",
    "data_p = data.loc[data['route']=='3']\n",
    "data_p['date'] = pd.to_datetime(data_p['date'])\n",
    "data_p['year'] = data_p['date'].dt.year\n",
    "data_p['month'] = data_p['date'].dt.month\n",
    "data_p['day'] = data_p['date'].dt.weekday"
   ]
  },
  {
   "cell_type": "code",
   "execution_count": null,
   "id": "cdc2285e-44d0-4f71-8443-9f0e38b46391",
   "metadata": {
    "tags": []
   },
   "outputs": [],
   "source": [
    "data_p.head()"
   ]
  },
  {
   "cell_type": "code",
   "execution_count": null,
   "id": "41de3ddf-b051-4a7b-8b47-e2d64552193a",
   "metadata": {
    "tags": []
   },
   "outputs": [],
   "source": [
    "x = data_p[['year', 'month', 'day']]\n",
    "y = data_p['rides']"
   ]
  },
  {
   "cell_type": "markdown",
   "id": "2d52e2a2-4cb0-48f7-a4df-077101246c3d",
   "metadata": {
    "tags": []
   },
   "source": [
    "With `pyGAM`, we do need to do all of the data processing manually, so we are creating the parsed time data using `pandas`' built-in functions to create columns for year, month, and day of the week. Once we have our data processed, we can fit our model."
   ]
  },
  {
   "cell_type": "code",
   "execution_count": null,
   "id": "726e638b-ba65-4130-af5b-8e2406e9a434",
   "metadata": {
    "tags": []
   },
   "outputs": [],
   "source": [
    "gam = LinearGAM(s(0) + s(1) + f(2))\n",
    "gam = gam.gridsearch(x.values, y)"
   ]
  },
  {
   "cell_type": "markdown",
   "id": "9bf296df-4bdd-4671-9f16-b6a6412609dd",
   "metadata": {
    "tags": []
   },
   "source": [
    "There are a few things going on here. First, we need to create our actual GAM model. This is done by creating an instance of the `LinearGAM` class. The argument that we provide to this class is similar to a regression equation. What we need to provide are the **functional forms** of the parameters to be included in our model.\n",
    "\n",
    "When we imported `pyGAM`, we also imported `s`, `f`, and `l`. `s` stands for **spline**, and represents our most general functional form. Splines can be used to estimate functions of any shape, and so they are the key component of a GAM as enablers of highly flexible functional form.\n",
    "\n",
    "`f` creates a factor-based functional form, and is useful where data is encoded as numbers which are categorial (rather than ordinal) in nature. This allows us to see the different level effects of each encoded factor in the column.\n",
    "\n",
    "`l` creates a linear functional form. This can be useful where we expect the relationship between $x$ and $y$ by constraining the relationship to be linear rather than smooth. Remember that linear functional forms are by far the easiest to interpret, so we want to use them wherever they are representative of truth!\n",
    "\n",
    "In our case, we want to see the spline-based relationship between year and rides and month and rides, but days are better treated as factors. This means that the most effective \"regression equation\" is `s(0) + f(1) + f(2)`, with 0, 1, and 2 denoting the respective columns in our `x` data array.\n",
    "\n",
    "Now, let's make ourselves a nice plot of the results:"
   ]
  },
  {
   "cell_type": "code",
   "execution_count": null,
   "id": "95575091-70c4-4dc8-b49b-19979ba23b55",
   "metadata": {
    "tags": []
   },
   "outputs": [],
   "source": [
    "# Import plotly tools to create a grid of subplots (figures) that work together\n",
    "from plotly import tools\n",
    "import plotly.offline as py\n",
    "import plotly.graph_objs as go\n",
    "\n",
    "# Name each figure\n",
    "titles = ['year', 'month', 'day']\n",
    "\n",
    "# Create the subplots in a single-row grid\n",
    "fig = tools.make_subplots(rows=1, cols=3, subplot_titles=titles)\n",
    "# Dictate the size of the figure, title, etc.\n",
    "fig['layout'].update(height=500, width=1000, title='pyGAM', showlegend=False)\n",
    "\n",
    "# Loop over the titles, and create the corresponding figures\n",
    "for i, title in enumerate(titles):\n",
    "    # Create the grid over which to estimate the effect of parameters\n",
    "    XX = gam.generate_X_grid(term=i)\n",
    "    # Calculate the value and 95% confidence intervals for each parameter\n",
    "    # This will become the expected effect on the dependent variable for a given value of x\n",
    "    pdep, confi = gam.partial_dependence(term=i, width=.95)\n",
    "    \n",
    "    # Create the effect and confidence interval traces (there are 3 total)\n",
    "    trace = go.Scatter(x=XX[:,i], y=pdep, mode='lines', name='Effect')\n",
    "    ci1 = go.Scatter(x = XX[:,i], y=confi[:,0], line=dict(dash='dash', color='grey'), name='95% CI')\n",
    "    ci2 = go.Scatter(x = XX[:,i], y=confi[:,1], line=dict(dash='dash', color='grey'), name='95% CI')\n",
    "\n",
    "    # Add each of the three traces to the figure in the relevant grid position\n",
    "    fig.append_trace(trace, 1, i+1)\n",
    "    fig.append_trace(ci1, 1, i+1)\n",
    "    fig.append_trace(ci2, 1, i+1)\n",
    "\n",
    "#Plot the figure\n",
    "py.iplot(fig)"
   ]
  },
  {
   "cell_type": "markdown",
   "id": "d37626d0-2e6c-4e3f-a626-5ad41dd26958",
   "metadata": {
    "tags": []
   },
   "source": [
    "This looks a lot more complicated than `Prophet`, and it is! The added complexity is due to increased flexibility. That flexibility becomes apparent when we want to add more than the same factors that we could use in Prophet. Let's try to model something different and see what happens."
   ]
  },
  {
   "cell_type": "code",
   "execution_count": null,
   "id": "66cddc10-8083-4ea8-9dd6-0b9279f96ed3",
   "metadata": {
    "tags": []
   },
   "outputs": [],
   "source": [
    "data = pd.read_csv(\"https://github.com/dustywhite7/Econ8310/raw/master/DataSets/auto-mpg.csv\")"
   ]
  },
  {
   "cell_type": "code",
   "execution_count": null,
   "id": "22c8339a-cb06-4fd7-a112-d7f95d441c97",
   "metadata": {
    "tags": []
   },
   "outputs": [],
   "source": [
    "data.head()"
   ]
  },
  {
   "cell_type": "markdown",
   "id": "6fd7e15a-62f9-4a63-ab9f-b4d6e49b8b5a",
   "metadata": {
    "tags": []
   },
   "source": [
    "In this case, our model has nothing to do with time-series analysis, but we will still be able to create a nice GAM. We can also create GAMs that combine time series patterns as well as other types of factors using `pyGAM`, and can use more varied data types as we do so."
   ]
  },
  {
   "cell_type": "code",
   "execution_count": null,
   "id": "55e3a524-220d-4a66-9da3-c6c1e2c2762c",
   "metadata": {
    "tags": []
   },
   "outputs": [],
   "source": [
    "titles = ['modelYear', 'acceleration', 'weight', 'horsepower', 'displacement','cylinders']\n",
    "\n",
    "x = data[titles]\n",
    "y = data['mpg']\n",
    "\n",
    "# Creating a factor for cylinders since it is not continuous like the other information\n",
    "gam = LinearGAM(s(0) + s(1) + s(2) + s(3) + s(4) + s(5))\n",
    "gam = gam.gridsearch(x.values, y)\n",
    "\n",
    "# Create the subplots in a single-row grid\n",
    "fig = tools.make_subplots(rows=2, cols=3, subplot_titles=titles)\n",
    "# Dictate the size of the figure, title, etc.\n",
    "fig['layout'].update(height=500, width=1000, title='pyGAM', showlegend=False)\n",
    "\n",
    "# Loop over the titles, and create the corresponding figures\n",
    "for i, title in enumerate(titles):\n",
    "    # Create the grid over which to estimate the effect of parameters\n",
    "    XX = gam.generate_X_grid(term=i)\n",
    "    # Calculate the value and 95% confidence intervals for each parameter\n",
    "    # This will become the expected effect on the dependent variable for a given value of x\n",
    "    pdep, confi = gam.partial_dependence(term=i, width=.95)\n",
    "    \n",
    "    # Create the effect and confidence interval traces (there are 3 total)\n",
    "    trace = go.Scatter(x=XX[:,i], y=pdep, mode='lines', name='Effect')\n",
    "    ci1 = go.Scatter(x = XX[:,i], y=confi[:,0], line=dict(dash='dash', color='grey'), name='95% CI')\n",
    "    ci2 = go.Scatter(x = XX[:,i], y=confi[:,1], line=dict(dash='dash', color='grey'), name='95% CI')\n",
    "\n",
    "    if i<3:\n",
    "        fig.append_trace(trace, 1, i+1)\n",
    "        fig.append_trace(ci1, 1, i+1)\n",
    "        fig.append_trace(ci2, 1, i+1)\n",
    "    else:\n",
    "        fig.append_trace(trace, 2, i-2)\n",
    "        fig.append_trace(ci1, 2, i-2)\n",
    "        fig.append_trace(ci2, 2, i-2)\n",
    "\n",
    "#Plot the figure\n",
    "py.iplot(fig)"
   ]
  },
  {
   "cell_type": "markdown",
   "id": "af1443f1-c1b9-4d55-abc3-f6b597f602e2",
   "metadata": {
    "tags": []
   },
   "source": [
    "Even though it took some effort to set up the original model, now that we have template code, we can quickly adapt it to pretty much any data, and get some really interesting figures back. These figures are the basis for our ability to interpret GAMs. The biggest reason for visualization is the power it has to translate our data to intuitive results for non-experts.\n",
    "\n",
    "We can, of course, also create forecasts using our `pyGAM` models:"
   ]
  },
  {
   "cell_type": "code",
   "execution_count": null,
   "id": "32c9be16-0483-452b-a45d-ec0a7f4912e2",
   "metadata": {
    "tags": []
   },
   "outputs": [],
   "source": [
    "pred = gam.predict(data.loc[3, titles].values.reshape(1,6))\n",
    "\n",
    "print(\"Truth was {0:.2f}, prediction was {1:.2f}, the model was off by {2:.2f}.\".format(data.loc[3,'mpg'], float(pred), data.loc[3,'mpg']-float(pred)))`"
   ]
  },
  {
   "cell_type": "markdown",
   "id": "b2427a85-9079-479e-9009-723e4bf9eae0",
   "metadata": {},
   "source": [
    "**Reading Reflection**\n",
    "\n",
    "Which of the two GAM libraries do you think will be more useful to you? Describe a situation in which you could use GAM, and why the library you picked would be preferable in that context. Submit on Canvas."
   ]
  }
 ],
 "metadata": {
  "kernelspec": {
   "display_name": "Python 3 (ipykernel)",
   "language": "python",
   "name": "python3"
  },
  "language_info": {
   "codemirror_mode": {
    "name": "ipython",
    "version": 3
   },
   "file_extension": ".py",
   "mimetype": "text/x-python",
   "name": "python",
   "nbconvert_exporter": "python",
   "pygments_lexer": "ipython3",
   "version": "3.9.13"
  }
 },
 "nbformat": 4,
 "nbformat_minor": 5
}
