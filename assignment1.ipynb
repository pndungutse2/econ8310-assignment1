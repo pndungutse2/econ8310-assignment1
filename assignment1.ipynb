{
 "cells": [
  {
   "cell_type": "markdown",
   "id": "478ed379",
   "metadata": {},
   "source": [
    "Load the training data and convert time stamp to datetime\n"
   ]
  },
  {
   "cell_type": "code",
   "execution_count": null,
   "id": "efc9386c",
   "metadata": {},
   "outputs": [
    {
     "name": "stderr",
     "output_type": "stream",
     "text": [
      "\n",
      "[notice] A new release of pip is available: 25.0 -> 25.0.1\n",
      "[notice] To update, run: C:\\Users\\big_p\\AppData\\Local\\Microsoft\\WindowsApps\\PythonSoftwareFoundation.Python.3.11_qbz5n2kfra8p0\\python.exe -m pip install --upgrade pip\n"
     ]
    },
    {
     "name": "stdout",
     "output_type": "stream",
     "text": [
      "Requirement already satisfied: pandas in c:\\users\\big_p\\appdata\\local\\packages\\pythonsoftwarefoundation.python.3.11_qbz5n2kfra8p0\\localcache\\local-packages\\python311\\site-packages (2.1.3)\n",
      "Collecting pygam\n",
      "  Downloading pygam-0.9.1-py3-none-any.whl.metadata (7.1 kB)\n",
      "Requirement already satisfied: numpy<2,>=1.23.2 in c:\\users\\big_p\\appdata\\local\\packages\\pythonsoftwarefoundation.python.3.11_qbz5n2kfra8p0\\localcache\\local-packages\\python311\\site-packages (from pandas) (1.26.1)\n",
      "Requirement already satisfied: python-dateutil>=2.8.2 in c:\\users\\big_p\\appdata\\local\\packages\\pythonsoftwarefoundation.python.3.11_qbz5n2kfra8p0\\localcache\\local-packages\\python311\\site-packages (from pandas) (2.8.2)\n",
      "Requirement already satisfied: pytz>=2020.1 in c:\\users\\big_p\\appdata\\local\\packages\\pythonsoftwarefoundation.python.3.11_qbz5n2kfra8p0\\localcache\\local-packages\\python311\\site-packages (from pandas) (2023.3.post1)\n",
      "Requirement already satisfied: tzdata>=2022.1 in c:\\users\\big_p\\appdata\\local\\packages\\pythonsoftwarefoundation.python.3.11_qbz5n2kfra8p0\\localcache\\local-packages\\python311\\site-packages (from pandas) (2023.3)\n",
      "Collecting progressbar2<5.0.0,>=4.2.0 (from pygam)\n",
      "  Downloading progressbar2-4.5.0-py3-none-any.whl.metadata (16 kB)\n",
      "Collecting scipy<1.12,>=1.11.1 (from pygam)\n",
      "  Downloading scipy-1.11.4-cp311-cp311-win_amd64.whl.metadata (60 kB)\n",
      "Collecting python-utils>=3.8.1 (from progressbar2<5.0.0,>=4.2.0->pygam)\n",
      "  Downloading python_utils-3.9.1-py2.py3-none-any.whl.metadata (9.8 kB)\n",
      "Requirement already satisfied: six>=1.5 in c:\\users\\big_p\\appdata\\local\\packages\\pythonsoftwarefoundation.python.3.11_qbz5n2kfra8p0\\localcache\\local-packages\\python311\\site-packages (from python-dateutil>=2.8.2->pandas) (1.16.0)\n",
      "Requirement already satisfied: typing_extensions>3.10.0.2 in c:\\users\\big_p\\appdata\\local\\packages\\pythonsoftwarefoundation.python.3.11_qbz5n2kfra8p0\\localcache\\local-packages\\python311\\site-packages (from python-utils>=3.8.1->progressbar2<5.0.0,>=4.2.0->pygam) (4.12.2)\n",
      "Downloading pygam-0.9.1-py3-none-any.whl (522 kB)\n",
      "Downloading progressbar2-4.5.0-py3-none-any.whl (57 kB)\n",
      "Downloading scipy-1.11.4-cp311-cp311-win_amd64.whl (44.1 MB)\n",
      "   ---------------------------------------- 0.0/44.1 MB ? eta -:--:--\n",
      "   - -------------------------------------- 1.6/44.1 MB 9.4 MB/s eta 0:00:05\n",
      "   -- ------------------------------------- 3.1/44.1 MB 8.4 MB/s eta 0:00:05\n",
      "   ---- ----------------------------------- 4.5/44.1 MB 7.7 MB/s eta 0:00:06\n",
      "   ----- ---------------------------------- 6.3/44.1 MB 7.9 MB/s eta 0:00:05\n",
      "   ------ --------------------------------- 7.3/44.1 MB 7.7 MB/s eta 0:00:05\n",
      "   ------- -------------------------------- 8.7/44.1 MB 7.3 MB/s eta 0:00:05\n",
      "   -------- ------------------------------- 9.7/44.1 MB 7.1 MB/s eta 0:00:05\n",
      "   --------- ------------------------------ 11.0/44.1 MB 6.8 MB/s eta 0:00:05\n",
      "   ---------- ----------------------------- 12.1/44.1 MB 6.7 MB/s eta 0:00:05\n",
      "   ----------- ---------------------------- 13.1/44.1 MB 6.5 MB/s eta 0:00:05\n",
      "   ------------ --------------------------- 14.2/44.1 MB 6.4 MB/s eta 0:00:05\n",
      "   -------------- ------------------------- 15.5/44.1 MB 6.4 MB/s eta 0:00:05\n",
      "   -------------- ------------------------- 16.5/44.1 MB 6.3 MB/s eta 0:00:05\n",
      "   --------------- ------------------------ 17.6/44.1 MB 6.3 MB/s eta 0:00:05\n",
      "   ----------------- ---------------------- 19.1/44.1 MB 6.3 MB/s eta 0:00:04\n",
      "   ------------------ --------------------- 20.4/44.1 MB 6.3 MB/s eta 0:00:04\n",
      "   ------------------- -------------------- 21.8/44.1 MB 6.3 MB/s eta 0:00:04\n",
      "   -------------------- ------------------- 23.1/44.1 MB 6.3 MB/s eta 0:00:04\n",
      "   ---------------------- ----------------- 24.4/44.1 MB 6.4 MB/s eta 0:00:04\n",
      "   ----------------------- ---------------- 25.7/44.1 MB 6.4 MB/s eta 0:00:03\n",
      "   ------------------------ --------------- 27.0/44.1 MB 6.4 MB/s eta 0:00:03\n",
      "   ------------------------- -------------- 28.3/44.1 MB 6.4 MB/s eta 0:00:03\n",
      "   --------------------------- ------------ 29.9/44.1 MB 6.4 MB/s eta 0:00:03\n",
      "   --------------------------- ------------ 30.7/44.1 MB 6.4 MB/s eta 0:00:03\n",
      "   ---------------------------- ----------- 31.2/44.1 MB 6.3 MB/s eta 0:00:03\n",
      "   ----------------------------- ---------- 32.0/44.1 MB 6.1 MB/s eta 0:00:02\n",
      "   ----------------------------- ---------- 32.2/44.1 MB 6.1 MB/s eta 0:00:02\n",
      "   ----------------------------- ---------- 32.8/44.1 MB 5.8 MB/s eta 0:00:02\n",
      "   ----------------------------- ---------- 33.0/44.1 MB 5.7 MB/s eta 0:00:02\n",
      "   ------------------------------ --------- 33.6/44.1 MB 5.6 MB/s eta 0:00:02\n",
      "   ------------------------------ --------- 33.8/44.1 MB 5.5 MB/s eta 0:00:02\n",
      "   ------------------------------- -------- 34.3/44.1 MB 5.3 MB/s eta 0:00:02\n",
      "   ------------------------------- -------- 34.6/44.1 MB 5.2 MB/s eta 0:00:02\n",
      "   ------------------------------- -------- 34.9/44.1 MB 5.2 MB/s eta 0:00:02\n",
      "   -------------------------------- ------- 35.4/44.1 MB 5.1 MB/s eta 0:00:02\n",
      "   -------------------------------- ------- 35.9/44.1 MB 5.0 MB/s eta 0:00:02\n",
      "   --------------------------------- ------ 36.4/44.1 MB 4.9 MB/s eta 0:00:02\n",
      "   --------------------------------- ------ 36.7/44.1 MB 4.8 MB/s eta 0:00:02\n",
      "   --------------------------------- ------ 37.2/44.1 MB 4.8 MB/s eta 0:00:02\n",
      "   ---------------------------------- ----- 37.5/44.1 MB 4.7 MB/s eta 0:00:02\n",
      "   ---------------------------------- ----- 38.0/44.1 MB 4.6 MB/s eta 0:00:02\n",
      "   ---------------------------------- ----- 38.5/44.1 MB 4.5 MB/s eta 0:00:02\n",
      "   ----------------------------------- ---- 38.8/44.1 MB 4.5 MB/s eta 0:00:02\n",
      "   ----------------------------------- ---- 39.3/44.1 MB 4.4 MB/s eta 0:00:02\n",
      "   ------------------------------------ --- 39.8/44.1 MB 4.4 MB/s eta 0:00:01\n",
      "   ------------------------------------ --- 40.4/44.1 MB 4.4 MB/s eta 0:00:01\n",
      "   ------------------------------------ --- 40.6/44.1 MB 4.3 MB/s eta 0:00:01\n",
      "   ------------------------------------- -- 41.2/44.1 MB 4.3 MB/s eta 0:00:01\n",
      "   ------------------------------------- -- 41.7/44.1 MB 4.2 MB/s eta 0:00:01\n",
      "   -------------------------------------- - 42.2/44.1 MB 4.2 MB/s eta 0:00:01\n",
      "   -------------------------------------- - 42.7/44.1 MB 4.2 MB/s eta 0:00:01\n",
      "   ---------------------------------------  43.3/44.1 MB 4.1 MB/s eta 0:00:01\n",
      "   ---------------------------------------  44.0/44.1 MB 4.1 MB/s eta 0:00:01\n",
      "   ---------------------------------------- 44.1/44.1 MB 4.1 MB/s eta 0:00:00\n",
      "Downloading python_utils-3.9.1-py2.py3-none-any.whl (32 kB)\n",
      "Installing collected packages: scipy, python-utils, progressbar2, pygam\n",
      "  Attempting uninstall: scipy\n",
      "    Found existing installation: scipy 1.15.1\n",
      "    Uninstalling scipy-1.15.1:\n",
      "      Successfully uninstalled scipy-1.15.1\n",
      "Successfully installed progressbar2-4.5.0 pygam-0.9.1 python-utils-3.9.1 scipy-1.11.4\n",
      "Note: you may need to restart the kernel to use updated packages.\n"
     ]
    }
   ],
   "source": [
    "\n",
    "from pygam import LinearGAM, s, f\n",
    "import pandas as pd\n",
    "\n",
    "train_data = pd.read_csv('https://github.com/dustywhite7/econ8310-assignment1/raw/main/assignment_data_train.csv')\n",
    "train_data['Timestamp'] = pd.to_datetime(train_data['Timestamp'])"
   ]
  }
 ],
 "metadata": {
  "kernelspec": {
   "display_name": "Python 3",
   "language": "python",
   "name": "python3"
  },
  "language_info": {
   "codemirror_mode": {
    "name": "ipython",
    "version": 3
   },
   "file_extension": ".py",
   "mimetype": "text/x-python",
   "name": "python",
   "nbconvert_exporter": "python",
   "pygments_lexer": "ipython3",
   "version": "3.11.9"
  }
 },
 "nbformat": 4,
 "nbformat_minor": 5
}
